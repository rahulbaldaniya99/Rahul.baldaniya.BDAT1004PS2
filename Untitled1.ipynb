{
 "cells": [
  {
   "cell_type": "code",
   "execution_count": 19,
   "id": "99149886",
   "metadata": {},
   "outputs": [
    {
     "data": {
      "text/plain": [
       "6"
      ]
     },
     "execution_count": 19,
     "metadata": {},
     "output_type": "execute_result"
    }
   ],
   "source": [
    "#Consider the following Python module:\n",
    "a = 0\n",
    "def b():\n",
    "    global a\n",
    "    a = c(a)\n",
    "\n",
    "def c(a):\n",
    "    return a+2\n",
    "\n",
    "b()\n",
    "b()\n",
    "b()\n",
    "a\n",
    "\n",
    "# Now the code works as the initial variable is a = 0, when you call the function b() it updates\n",
    "# the global variable a by calling the function c(a) which adds the 2 to the current value of\n",
    "# a i.e. 2, when the second time b() calls the a becomes 4, third time b() calls the a becomes\n",
    "# 6, now if you execute a it will return \"6\""
   ]
  },
  {
   "cell_type": "code",
   "execution_count": 10,
   "id": "f2f62de9",
   "metadata": {},
   "outputs": [
    {
     "name": "stdout",
     "output_type": "stream",
     "text": [
      "25\n",
      "file not found, have a good day.\n"
     ]
    }
   ],
   "source": [
    "#Modify function fileLength() so that afriendly message is printed instead:\n",
    "\n",
    "def file_length(file_name):\n",
    "    try:\n",
    "        file = open(file_name)\n",
    "        contents = file.read()\n",
    "        file.close()\n",
    "        print(len(contents))\n",
    "        \n",
    "    except FileNotFoundError:\n",
    "        print(\"file not found, have a good day.\")\n",
    "        \n",
    "file_length('/Users/rahulbaldaniya/Documents/midterm.py')       \n",
    "\n",
    "file_length('/Users/rahulbaldaniya/Documents/midter.py')"
   ]
  },
  {
   "cell_type": "code",
   "execution_count": 6,
   "id": "2f71e5ef",
   "metadata": {},
   "outputs": [
    {
     "name": "stdout",
     "output_type": "stream",
     "text": [
      "['doll', 'firetruck', 'kitten']\n",
      "['doll', 'firetruck', 'kitten']\n",
      "I am a Kangaroo located at coordinates (3,0)\n"
     ]
    }
   ],
   "source": [
    "# Problem 3\n",
    "\n",
    "class Marsupial:\n",
    "    def __init__(self):\n",
    "        self.pouch = []\n",
    "\n",
    "    def put_in_pouch(self, item):\n",
    "        self.pouch.append(item)\n",
    "\n",
    "    def pouch_contents(self):\n",
    "        return self.pouch\n",
    "    \n",
    "# Create an instance of the Marsupial class\n",
    "m = Marsupial()    \n",
    "\n",
    "# Put items into the pouch\n",
    "m.put_in_pouch('doll')\n",
    "m.put_in_pouch('firetruck')\n",
    "m.put_in_pouch('kitten')\n",
    "\n",
    "# Retrieve and print the pouch's contents\n",
    "contents = m.pouch_contents()\n",
    "print(contents)\n",
    "    \n",
    "\n",
    "class Kangaroo(Marsupial):\n",
    "    def __init__(self, x, y):\n",
    "        super().__init__()\n",
    "        self.x = x\n",
    "        self.y = y\n",
    "\n",
    "    def jump(self, dx, dy):\n",
    "        self.x += dx\n",
    "        self.y += dy\n",
    "\n",
    "    def __str__(self):\n",
    "        return f\"I am a Kangaroo located at coordinates ({self.x},{self.y})\"\n",
    "\n",
    "# Create an instance of the Kangaroo class\n",
    "k = Kangaroo(0, 0)\n",
    "\n",
    "# Put items into the k pouch\n",
    "k.put_in_pouch('doll')\n",
    "k.put_in_pouch('firetruck')\n",
    "k.put_in_pouch('kitten')\n",
    "\n",
    "# Retrieve and print the kpouch contents\n",
    "contents = k.pouch_contents()\n",
    "print(contents)\n",
    "\n",
    "# Move the k using the jump method\n",
    "k.jump(1, 0)\n",
    "k.jump(1, 0)\n",
    "k.jump(1, 0)\n",
    "\n",
    "# Print the k's location\n",
    "print(k)\n"
   ]
  },
  {
   "cell_type": "code",
   "execution_count": 16,
   "id": "816a7d65",
   "metadata": {},
   "outputs": [
    {
     "name": "stdout",
     "output_type": "stream",
     "text": [
      "10\n",
      "5.0\n",
      "16.0\n",
      "8.0\n",
      "4.0\n",
      "2.0\n",
      "1\n"
     ]
    }
   ],
   "source": [
    "# Problem 4\n",
    "\n",
    "def collatz(x):\n",
    "    def collatz_recursive(x): # define an internal function within the main function for the recursive process\n",
    "        if x==1:\n",
    "            print(1)\n",
    "        else:\n",
    "            print(x)\n",
    "            collatz_recursive(3*x+1 if x%2!=0 else x/2)\n",
    "\n",
    "    collatz_recursive(x)\n",
    "\n",
    "# Calling the collatz function with a positive integer as input\n",
    "collatz(10)"
   ]
  },
  {
   "cell_type": "code",
   "execution_count": 18,
   "id": "d6369e53",
   "metadata": {},
   "outputs": [
    {
     "name": "stdout",
     "output_type": "stream",
     "text": [
      "10110001100011101"
     ]
    }
   ],
   "source": [
    "#Write a recursive method binary() that takes a non-negative integer n and prints the binary representation of integer n\n",
    "\n",
    "def binary(n):\n",
    "    if n>1:\n",
    "        binary(n//2)  # Recursive call with integer division\n",
    "    print(n%2, end=\"\")  # Print the remainder (0 or 1) without a new line\n",
    "\n",
    "binary(90909)"
   ]
  },
  {
   "cell_type": "code",
   "execution_count": 16,
   "id": "487b4fc8",
   "metadata": {},
   "outputs": [],
   "source": [
    "#6 problem\n",
    "\n",
    "from html.parser import HTMLParser\n",
    "\n",
    "class HeadingParser(HTMLParser):\n",
    "    def __init__(self):\n",
    "        super().__init__()\n",
    "        self.indentation = 0\n",
    "        self.headings = []\n",
    "\n",
    "    def handle_starttag(self, tag, attrs):\n",
    "        if tag.startswith('h'):\n",
    "            self.indentation = int(tag[1:]) - 1\n",
    "\n",
    "    def handle_data(self, data):\n",
    "        if self.indentation >= 0:\n",
    "            self.headings.append(' ' * self.indentation + data)\n",
    "\n",
    "    def print_headings(self):\n",
    "        for heading in self.headings:\n",
    "            print(heading)\n",
    "        \n",
    "        \n",
    "infile = open('/Users/rahulbaldaniya/Downloads/w3c.txt')\n",
    "content = infile.read()\n",
    "infile.close()\n",
    "\n",
    "hp = HeadingParser()\n",
    "hp.feed(content)\n",
    "hp.print_headings()"
   ]
  },
  {
   "cell_type": "code",
   "execution_count": 1,
   "id": "4a8ed4b9",
   "metadata": {},
   "outputs": [],
   "source": [
    "#7 problem\n",
    "\n",
    "import requests\n",
    "\n",
    "def webdir(url, depth, indent=0):\n",
    "    if depth < 0:\n",
    "        return\n",
    "\n",
    "    try:\n",
    "        response = requests.get(url)\n",
    "        response.raise_for_status()\n",
    "        print(' ' * indent + url)\n",
    "\n",
    "        if depth > 0:\n",
    "            links = extract_links(response.text)\n",
    "            for link in links:\n",
    "                webdir(link, depth - 1, indent + 2)\n",
    "\n",
    "    except requests.exceptions.RequestException as e:\n",
    "        print(' ' * indent + f\"Error: {e}\")"
   ]
  },
  {
   "cell_type": "code",
   "execution_count": 1,
   "id": "8966b406",
   "metadata": {},
   "outputs": [
    {
     "ename": "SyntaxError",
     "evalue": "unmatched ')' (1554871709.py, line 3)",
     "output_type": "error",
     "traceback": [
      "\u001b[0;36m  Cell \u001b[0;32mIn[1], line 3\u001b[0;36m\u001b[0m\n\u001b[0;31m    a) All the temperature data.\u001b[0m\n\u001b[0m     ^\u001b[0m\n\u001b[0;31mSyntaxError\u001b[0m\u001b[0;31m:\u001b[0m unmatched ')'\n"
     ]
    }
   ],
   "source": [
    "# Problem 8\n",
    "Write SQL queries on the below database table that return:\n",
    "\n",
    "a) All the temperature data.\n",
    "b) All the cities, but without repetition.\n",
    "c) All the records for India.\n",
    "d) All the Fall records.\n",
    "e) The city, country, and season for which the average rainfall is between 200 and 400 millimeters.\n",
    "f) The city and country for which the average Fall temperature is above 20 degrees, in increasing temperature order.\n",
    "g) The total annual rainfall for Cairo.\n",
    "h) The total rainfall for each season\n",
    "\n",
    "\n",
    "ANSWERS:\n",
    "    \n",
    "a)\n",
    "SELECT Temperature\n",
    "FROM Table;\n",
    "\n",
    "b)\n",
    "SELECT DISTINCT City\n",
    "FROM Table;\n",
    "\n",
    "c)\n",
    "SELECT *\n",
    "FROM Table\n",
    "WHERE Country = 'India';\n",
    "\n",
    "d)\n",
    "SELECT *\n",
    "FROM Table\n",
    "WHERE Season = 'Fall';\n",
    "\n",
    "e)\n",
    "SELECT City, Country, Season\n",
    "FROM Table\n",
    "GROUP BY City, Country, Season\n",
    "HAVING AVG(Rainfall) BETWEEN 200 AND 400;\n",
    "\n",
    "f)\n",
    "SELECT City, Country\n",
    "FROM Table\n",
    "WHERE Season = 'Fall'\n",
    "GROUP BY City, Country\n",
    "HAVING AVG(Temperature) > 20\n",
    "ORDER BY AVG(Temperature) ASC;\n",
    "\n",
    "g)\n",
    "SELECT City, SUM(Rainfall) AS TotalRainfall\n",
    "FROM Table\n",
    "WHERE City = 'Cairo'\n",
    "GROUP BY City;\n",
    "\n",
    "h)\n",
    "SELECT Season, SUM(Rainfall) AS TotalRainfall\n",
    "FROM Table\n",
    "GROUP BY Season;\n"
   ]
  },
  {
   "cell_type": "code",
   "execution_count": 5,
   "id": "297ffe77",
   "metadata": {},
   "outputs": [
    {
     "name": "stdout",
     "output_type": "stream",
     "text": [
      "['THE', 'QUICK', 'BROWN', 'FOX', 'JUMPS', 'OVER', 'THE', 'LAZY', 'DOG']\n",
      "['the', 'quick', 'brown', 'fox', 'jumps', 'over', 'the', 'lazy', 'dog']\n",
      "[3, 5, 5, 3, 5, 4, 3, 4, 3]\n",
      "[['THE', 'the', 3], ['QUICK', 'quick', 5], ['BROWN', 'brown', 5], ['FOX', 'fox', 3], ['JUMPS', 'jumps', 5], ['OVER', 'over', 4], ['THE', 'the', 3], ['LAZY', 'lazy', 4], ['DOG', 'dog', 3]]\n",
      "['quick', 'brown', 'jumps', 'over', 'lazy']\n"
     ]
    }
   ],
   "source": [
    "# Problem 9\n",
    "words = ['The', 'quick', 'brown', 'fox', 'jumps', 'over', 'the', 'lazy', 'dog']\n",
    "\n",
    "# Uppercase words\n",
    "uppercase = [i.upper() for i in words]\n",
    "print(uppercase)\n",
    "\n",
    "# Lowercase words\n",
    "lowercase = [i.lower() for i in words]\n",
    "print(lowercase)\n",
    "\n",
    "# Word lengths\n",
    "length = [len(i) for i in words]\n",
    "print(length)\n",
    "\n",
    "# Word information (upper, lower, length)\n",
    "info = [[i.upper(), i.lower(), len(i)] for i in words]\n",
    "print(info)\n",
    "\n",
    "# Words with 4 or more characters\n",
    "longwords = [i for i in words if len(i) >= 4]\n",
    "print(longwords)\n"
   ]
  },
  {
   "cell_type": "code",
   "execution_count": null,
   "id": "ffe8e26d",
   "metadata": {},
   "outputs": [],
   "source": []
  }
 ],
 "metadata": {
  "kernelspec": {
   "display_name": "Python 3 (ipykernel)",
   "language": "python",
   "name": "python3"
  },
  "language_info": {
   "codemirror_mode": {
    "name": "ipython",
    "version": 3
   },
   "file_extension": ".py",
   "mimetype": "text/x-python",
   "name": "python",
   "nbconvert_exporter": "python",
   "pygments_lexer": "ipython3",
   "version": "3.11.4"
  }
 },
 "nbformat": 4,
 "nbformat_minor": 5
}
